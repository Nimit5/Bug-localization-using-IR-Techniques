{
 "cells": [
  {
   "cell_type": "code",
   "execution_count": 4,
   "metadata": {},
   "outputs": [
    {
     "name": "stdout",
     "output_type": "stream",
     "text": [
      "Dataset(name='codec', root=WindowsPath('d:/IRProj/bug-localization/master/../data/CODEC'), src=WindowsPath('d:/IRProj/bug-localization/master/../data/CODEC/gitrepo'), bug_repo=WindowsPath('d:/IRProj/bug-localization/master/../data/CODEC/bugrepo/repository.xml'))\n"
     ]
    }
   ],
   "source": [
    "import json\n",
    "import pickle\n",
    "from collections import OrderedDict\n",
    "import pandas as pd\n",
    "import numpy as np\n",
    "import os\n",
    "from datasets import DATASET\n"
   ]
  },
  {
   "cell_type": "code",
   "execution_count": 18,
   "metadata": {},
   "outputs": [],
   "source": [
    "def get_traces_score(src_files, bug_reports):\n",
    "\n",
    "    all_file_names = set(s.exact_file_name for s in src_files.values())\n",
    "\n",
    "    all_scores = []\n",
    "    for report in bug_reports.values():\n",
    "\n",
    "        scores = []\n",
    "\n",
    "        stack_traces = report.stack_traces\n",
    "\n",
    "        # Preprocessing stack-traces\n",
    "        final_st = []\n",
    "        for trace in stack_traces:\n",
    "            # print(trace)\n",
    "            if trace[1] == 'Unknown Source':\n",
    "                txt = (trace[0].split('.')[-2].split('$')[0], trace[0].strip())\n",
    "                # print(txt)\n",
    "                final_st.append((trace[0].split('.')[-2].split('$')[0], trace[0].strip()))\n",
    "            elif trace[1] != 'Native Method':\n",
    "                txt = (trace[1].split('.')[0].replace(' ', ''), trace[0].strip())\n",
    "                # print(txt)\n",
    "                final_st.append((trace[1].split('.')[0].replace(' ', ''), trace[0].strip()))\n",
    "\n",
    "        stack_traces = OrderedDict([(file, package) for file, package in final_st if file in all_file_names])\n",
    "\n",
    "        for src in src_files.values():\n",
    "            file_name = src.exact_file_name\n",
    "\n",
    "            # If the source file has a package name\n",
    "            if src.package_name:\n",
    "                if file_name in stack_traces and src.package_name in stack_traces[file_name]:\n",
    "                    scores.append(1 / (list(stack_traces).index(file_name) + 1))\n",
    "\n",
    "                else:\n",
    "                    # If it isn't the exact source file based on it's package name\n",
    "                    scores.append(0)\n",
    "                    \n",
    "            # If it doesn't have a package name\n",
    "            elif file_name in stack_traces:\n",
    "                scores.append(1 / (list(stack_traces).index(file_name) + 1))\n",
    "            else:\n",
    "                scores.append(0)\n",
    "\n",
    "        all_scores.append(scores)\n",
    "\n",
    "    return all_scores"
   ]
  },
  {
   "cell_type": "code",
   "execution_count": 19,
   "metadata": {},
   "outputs": [],
   "source": [
    "listOfList = []"
   ]
  },
  {
   "cell_type": "code",
   "execution_count": 20,
   "metadata": {},
   "outputs": [],
   "source": [
    "def main():\n",
    "\n",
    "    with open(DATASET.root / 'preprocessed_src.pickle', 'rb') as file:\n",
    "        src_files = pickle.load(file)\n",
    "    with open(DATASET.root / 'preprocessed_reports.pickle', 'rb') as file:\n",
    "        bug_reports = pickle.load(file)\n",
    "\n",
    "    all_scores = get_traces_score(src_files, bug_reports)\n",
    "    for i in all_scores:\n",
    "        listOfList.append(i)\n",
    "    # print(all_scores)\n",
    "\n",
    "    with open(DATASET.root / 'stack_trace.json', 'w') as file:\n",
    "        json.dump(all_scores, file)"
   ]
  },
  {
   "cell_type": "code",
   "execution_count": 21,
   "metadata": {},
   "outputs": [
    {
     "name": "stdout",
     "output_type": "stream",
     "text": [
      "('org.apache.commons.codec.binary.Base64.encode', 'Base64.java:502')\n",
      "('org.apache.commons.codec.binary.Base64InputStream.read', 'Base64InputStream.java:157')\n",
      "('org.apache.commons.codec.binary.Base64InputStream.read', 'Base64InputStream.java:109')\n"
     ]
    }
   ],
   "source": [
    "main()"
   ]
  },
  {
   "cell_type": "code",
   "execution_count": 6,
   "metadata": {},
   "outputs": [],
   "source": [
    "path = os.getcwd()\n",
    "path+=\"\\\\table.csv\"\n",
    "# path"
   ]
  },
  {
   "cell_type": "code",
   "execution_count": 7,
   "metadata": {},
   "outputs": [
    {
     "data": {
      "text/plain": [
       "'d:\\\\IRProj\\\\bug-localization-master\\\\master\\\\table.csv'"
      ]
     },
     "execution_count": 7,
     "metadata": {},
     "output_type": "execute_result"
    }
   ],
   "source": [
    "path"
   ]
  },
  {
   "cell_type": "code",
   "execution_count": 8,
   "metadata": {},
   "outputs": [],
   "source": [
    "mrr = []\n",
    "mean_avgp = []\n",
    "df = pd.read_csv(path)"
   ]
  },
  {
   "cell_type": "code",
   "execution_count": 9,
   "metadata": {},
   "outputs": [],
   "source": [
    "another = []"
   ]
  },
  {
   "cell_type": "code",
   "execution_count": 10,
   "metadata": {},
   "outputs": [],
   "source": [
    "for the in listOfList:\n",
    "    \n",
    "    for i,j in enumerate(the):\n",
    "        another.append((i+1,j))\n",
    "    # print(another)\n",
    "    another = sorted(another, key = lambda x: x[1],reverse=True)\n",
    "    # print(another)\n",
    "    relevent_ranks = []\n",
    "    for rank,score in another:\n",
    "        if score!=0:\n",
    "            relevent_ranks.append(rank)\n",
    "    # relevent_ranks = sorted(relevent_ranks)\n",
    "    # print(relevent_ranks)\n",
    "    if len(relevent_ranks)==0:\n",
    "        mean_avgp.append(0)\n",
    "    else:\n",
    "        someAnother = sorted(relevent_ranks)\n",
    "        # print(someAnother)\n",
    "        for j, rank in enumerate(someAnother):\n",
    "            # print(j,rank)\n",
    "            l = len(someAnother[:j + 1])\n",
    "            if rank!=0:\n",
    "                t = l / rank\n",
    "                mean_avgp.append(np.mean(t))\n",
    "            else:\n",
    "                mean_avgp.append(0)\n",
    "    # print(relevent_ranks)\n",
    "    if len(relevent_ranks):\n",
    "        position = (relevent_ranks[0])\n",
    "        if position:\n",
    "            mrr.append(1/position)\n",
    "        else:\n",
    "            mrr.append(0)\n",
    "    else:\n",
    "        mrr.append(0)\n",
    "# print(mrr)\n",
    "# print(np.mean(mrr))\n",
    "\n",
    "# print(np.mean(mean_avgp))\n",
    "\n",
    "some = ['Token_matching_score',DATASET.name,np.mean(mrr),np.mean(mean_avgp)]\n",
    "df.loc[len(df)] = some"
   ]
  },
  {
   "cell_type": "code",
   "execution_count": 11,
   "metadata": {},
   "outputs": [],
   "source": [
    "# # df.drop_duplicates(subset = \"Dataset\" ,keep = \"first\", inplace = True)\n",
    "# df.to_csv(path,index=None)\n",
    "# df"
   ]
  },
  {
   "cell_type": "code",
   "execution_count": 12,
   "metadata": {},
   "outputs": [
    {
     "name": "stdout",
     "output_type": "stream",
     "text": [
      "top 10 retrieved files:\n"
     ]
    },
    {
     "data": {
      "text/plain": [
       "[(15, 1.0),\n",
       " (16, 0.5),\n",
       " (1, 0),\n",
       " (2, 0),\n",
       " (3, 0),\n",
       " (4, 0),\n",
       " (5, 0),\n",
       " (6, 0),\n",
       " (7, 0),\n",
       " (8, 0)]"
      ]
     },
     "execution_count": 12,
     "metadata": {},
     "output_type": "execute_result"
    }
   ],
   "source": [
    "print(\"top 10 retrieved files:\")\n",
    "another[0:10]"
   ]
  }
 ],
 "metadata": {
  "interpreter": {
   "hash": "2be5faf79681da6f2a61fdfdd5405d65d042280f7fba6178067603e3a2925119"
  },
  "kernelspec": {
   "display_name": "Python 3.10.3 64-bit",
   "language": "python",
   "name": "python3"
  },
  "language_info": {
   "codemirror_mode": {
    "name": "ipython",
    "version": 3
   },
   "file_extension": ".py",
   "mimetype": "text/x-python",
   "name": "python",
   "nbconvert_exporter": "python",
   "pygments_lexer": "ipython3",
   "version": "3.10.3"
  },
  "orig_nbformat": 4
 },
 "nbformat": 4,
 "nbformat_minor": 2
}
