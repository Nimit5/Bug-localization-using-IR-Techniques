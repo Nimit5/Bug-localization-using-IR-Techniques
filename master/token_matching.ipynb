{
 "cells": [
  {
   "cell_type": "code",
   "execution_count": 1,
   "metadata": {},
   "outputs": [
    {
     "name": "stdout",
     "output_type": "stream",
     "text": [
      "Dataset(name='codec', root=WindowsPath('d:/IRProj/bug-localization/master/../data/CODEC'), src=WindowsPath('d:/IRProj/bug-localization/master/../data/CODEC/gitrepo'), bug_repo=WindowsPath('d:/IRProj/bug-localization/master/../data/CODEC/bugrepo/repository.xml'))\n"
     ]
    }
   ],
   "source": [
    "import json\n",
    "import pickle\n",
    "\n",
    "import numpy as np\n",
    "import pandas as pd\n",
    "import os\n",
    "from sklearn import preprocessing\n",
    "\n",
    "from datasets import DATASET"
   ]
  },
  {
   "cell_type": "code",
   "execution_count": 2,
   "metadata": {},
   "outputs": [],
   "source": [
    "# checking the matching tokens between the bug reports and source files\n",
    "def check_matchings(src_files, bug_reports):\n",
    "    \n",
    "\n",
    "    scores = []\n",
    "    for report in bug_reports.values():\n",
    "        matched_count = []\n",
    "        summary_set = report.summary\n",
    "        pos_tagged_sum_desc = (report.pos_tagged_summary['stemmed'] + report.pos_tagged_description['stemmed'])\n",
    "\n",
    "        for src in src_files.values():\n",
    "            if src.file_name['stemmed']:\n",
    "                common_tokens = len(set(summary_set['stemmed']) & set([src.file_name['stemmed'][0]]))\n",
    "            else:\n",
    "                common_tokens = 0\n",
    "\n",
    "            matched_count.append(common_tokens)\n",
    "\n",
    "        # Here no files matched a summary\n",
    "        if sum(matched_count) == 0:\n",
    "            matched_count = []\n",
    "            for src in src_files.values():\n",
    "                common_tokens = len(set(pos_tagged_sum_desc) & set(src.file_name['stemmed'] + src.class_names['stemmed'] + src.method_names['stemmed']))\n",
    "\n",
    "                if not common_tokens:\n",
    "                    common_tokens = (len(set(pos_tagged_sum_desc) & set(src.comments['stemmed'])) - len(set(src.comments['stemmed'])))\n",
    "\n",
    "                if not common_tokens:\n",
    "                    common_tokens = (len(set(pos_tagged_sum_desc) & set(src.attributes['stemmed'])) - len(set(src.attributes['stemmed'])))\n",
    "\n",
    "                matched_count.append(common_tokens)\n",
    "\n",
    "        min_max_scaler = preprocessing.MinMaxScaler()\n",
    "\n",
    "        intersect_count = []\n",
    "        for count in matched_count:\n",
    "            intersect_count.append(float(count))\n",
    "\n",
    "        intersect_count = np.array(intersect_count).reshape(-1, 1)\n",
    "\n",
    "        normalized_count = np.concatenate(min_max_scaler.fit_transform(intersect_count))\n",
    "\n",
    "        scores.append(normalized_count.tolist())\n",
    "\n",
    "    return scores\n"
   ]
  },
  {
   "cell_type": "code",
   "execution_count": 3,
   "metadata": {},
   "outputs": [],
   "source": [
    "listOfList = []"
   ]
  },
  {
   "cell_type": "code",
   "execution_count": 4,
   "metadata": {},
   "outputs": [],
   "source": [
    "def main():\n",
    "\n",
    "    # Unpickle preprocessed data\n",
    "    with open(DATASET.root / 'preprocessed_src.pickle', 'rb') as file:\n",
    "        src_files = pickle.load(file)\n",
    "    with open(DATASET.root / 'preprocessed_reports.pickle', 'rb') as file:\n",
    "        bug_reports = pickle.load(file)\n",
    "\n",
    "    scores = check_matchings(src_files, bug_reports)\n",
    "    for i in scores:\n",
    "        listOfList.append(i)\n",
    "    # print(len(scores[1]))\n",
    "\n",
    "    # Saving scores in a json file\n",
    "    with open(DATASET.root / 'token_matching.json', 'w') as file:\n",
    "        json.dump(scores, file)\n"
   ]
  },
  {
   "cell_type": "code",
   "execution_count": 5,
   "metadata": {},
   "outputs": [],
   "source": [
    "main()"
   ]
  },
  {
   "cell_type": "code",
   "execution_count": 6,
   "metadata": {},
   "outputs": [],
   "source": [
    "path = os.getcwd()\n",
    "path+=\"\\\\table.csv\"\n",
    "# path"
   ]
  },
  {
   "cell_type": "code",
   "execution_count": 7,
   "metadata": {},
   "outputs": [],
   "source": [
    "mrr = []\n",
    "mean_avgp = []\n",
    "df = pd.read_csv(path)"
   ]
  },
  {
   "cell_type": "code",
   "execution_count": 8,
   "metadata": {},
   "outputs": [],
   "source": [
    "for the in listOfList:\n",
    "    another = []\n",
    "    for i,j in enumerate(the):\n",
    "        another.append((i+1,j))\n",
    "    # print(another)\n",
    "    another = sorted(another, key = lambda x: x[1],reverse=True)\n",
    "    # print(another)\n",
    "    relevent_ranks = []\n",
    "    for rank,score in another:\n",
    "        if score!=0:\n",
    "            relevent_ranks.append(rank)\n",
    "    # relevent_ranks = sorted(relevent_ranks)\n",
    "    # print(relevent_ranks)\n",
    "    if len(relevent_ranks)==0:\n",
    "        mean_avgp.append(0)\n",
    "    else:\n",
    "        someAnother = sorted(relevent_ranks)\n",
    "        # print(someAnother)\n",
    "        for j, rank in enumerate(someAnother):\n",
    "            # print(j,rank)\n",
    "            l = len(someAnother[:j + 1])\n",
    "            if rank!=0:\n",
    "                t = l / rank\n",
    "                mean_avgp.append(np.mean(t))\n",
    "            else:\n",
    "                mean_avgp.append(0)\n",
    "    # print(relevent_ranks)\n",
    "    if len(relevent_ranks):\n",
    "        position = (relevent_ranks[0])\n",
    "        if position:\n",
    "            mrr.append(1/position)\n",
    "        else:\n",
    "            mrr.append(0)\n",
    "    else:\n",
    "        mrr.append(0)\n",
    "# print(mrr)\n",
    "# print(np.mean(mrr))\n",
    "\n",
    "# print(np.mean(mean_avgp))\n",
    "\n",
    "some = ['Token_matching_score',DATASET.name,np.mean(mrr),np.mean(mean_avgp)]\n",
    "df.loc[len(df)] = some"
   ]
  },
  {
   "cell_type": "code",
   "execution_count": null,
   "metadata": {},
   "outputs": [],
   "source": [
    "# df.drop_duplicates(subset = \"Dataset\" ,keep = \"first\", inplace = True)\n",
    "# df.to_csv(path,index=None)\n",
    "# df"
   ]
  },
  {
   "cell_type": "code",
   "execution_count": 10,
   "metadata": {},
   "outputs": [
    {
     "name": "stdout",
     "output_type": "stream",
     "text": [
      "top 10 retrieved files:\n"
     ]
    },
    {
     "data": {
      "text/plain": [
       "[(19, 1.0),\n",
       " (20, 1.0),\n",
       " (49, 1.0),\n",
       " (64, 1.0),\n",
       " (69, 1.0),\n",
       " (71, 1.0),\n",
       " (75, 1.0),\n",
       " (13, 0.9968454258675078),\n",
       " (16, 0.9968454258675078),\n",
       " (36, 0.9968454258675078)]"
      ]
     },
     "execution_count": 10,
     "metadata": {},
     "output_type": "execute_result"
    }
   ],
   "source": [
    "print(\"Top 10 retrieved files:\")\n",
    "another[0:10]"
   ]
  },
  {
   "cell_type": "code",
   "execution_count": null,
   "metadata": {},
   "outputs": [],
   "source": []
  }
 ],
 "metadata": {
  "interpreter": {
   "hash": "f6a27348e614b46aa9ce7dd7d8cc15141dc852e2100cff1c5f5ad652d38e0c21"
  },
  "kernelspec": {
   "display_name": "Python 3.9.7 ('my_env': venv)",
   "language": "python",
   "name": "python3"
  },
  "language_info": {
   "codemirror_mode": {
    "name": "ipython",
    "version": 3
   },
   "file_extension": ".py",
   "mimetype": "text/x-python",
   "name": "python",
   "nbconvert_exporter": "python",
   "pygments_lexer": "ipython3",
   "version": "3.10.3"
  },
  "orig_nbformat": 4
 },
 "nbformat": 4,
 "nbformat_minor": 2
}
