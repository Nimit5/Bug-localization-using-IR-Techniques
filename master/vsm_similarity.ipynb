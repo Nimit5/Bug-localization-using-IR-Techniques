{
 "cells": [
  {
   "cell_type": "code",
   "execution_count": 1,
   "metadata": {},
   "outputs": [
    {
     "name": "stdout",
     "output_type": "stream",
     "text": [
      "Dataset(name='codec', root=WindowsPath('d:/IRProj/bug-localization-master/master/../data/CODEC'), src=WindowsPath('d:/IRProj/bug-localization-master/master/../data/CODEC/gitrepo'), bug_repo=WindowsPath('d:/IRProj/bug-localization-master/master/../data/CODEC/bugrepo/repository.xml'))\n"
     ]
    }
   ],
   "source": [
    "import json\n",
    "import pickle\n",
    "\n",
    "import numpy as np\n",
    "import pandas as pd\n",
    "import os\n",
    "from sklearn import preprocessing\n",
    "from sklearn.feature_extraction.text import TfidfVectorizer\n",
    "from sklearn.metrics.pairwise import cosine_similarity\n",
    "from datasets import DATASET"
   ]
  },
  {
   "cell_type": "code",
   "execution_count": 2,
   "metadata": {},
   "outputs": [],
   "source": [
    "\n",
    "class Similarity:\n",
    "\n",
    "    __slots__ = ['src_files', 'src_strings']\n",
    "\n",
    "    def __init__(self, src_files):\n",
    "        self.src_files = src_files\n",
    "        self.src_strings = [' '.join(src.file_name['stemmed'] + src.class_names['stemmed']\n",
    "                                     + src.method_names['stemmed']\n",
    "                                     + src.pos_tagged_comments['stemmed']\n",
    "                                     + src.attributes['stemmed'])\n",
    "                            for src in self.src_files.values()]\n",
    "\n",
    "    def calculate_similarity(self, src_tfidf, reports_tfidf):\n",
    "        \"\"\"Calculating cosine similarity between source files and bug reports\"\"\"\n",
    "\n",
    "        # Normalizing the length of source files\n",
    "        src_lengths = np.array([float(len(src_str.split()))\n",
    "                                for src_str in self.src_strings]).reshape(-1, 1)\n",
    "        min_max_scaler = preprocessing.MinMaxScaler()\n",
    "        normalized_src_len = min_max_scaler.fit_transform(src_lengths)\n",
    "\n",
    "        # Applying logistic length function\n",
    "        src_len_score = 1 / (1 + np.exp(-12 * normalized_src_len))\n",
    "\n",
    "        simis = []\n",
    "        for report in reports_tfidf:\n",
    "            s = cosine_similarity(src_tfidf, report)\n",
    "\n",
    "            # revised VSM score calculation\n",
    "            rvsm_score = s * src_len_score\n",
    "\n",
    "            normalized_score = np.concatenate(\n",
    "                min_max_scaler.fit_transform(rvsm_score)\n",
    "            )\n",
    "\n",
    "            simis.append(normalized_score.tolist())\n",
    "\n",
    "        return simis\n",
    "\n",
    "    def find_similars(self, bug_reports):\n",
    "        \"\"\"Calculating tf-idf vectors for source and report sets\n",
    "        to find similar source files for each bug report.\n",
    "        \"\"\"\n",
    "\n",
    "        reports_strings = [' '.join(report.summary['stemmed'] + report.description['stemmed'])\n",
    "                           for report in bug_reports.values()]\n",
    "\n",
    "        tfidf = TfidfVectorizer(sublinear_tf=True, smooth_idf=False)\n",
    "        src_tfidf = tfidf.fit_transform(self.src_strings)\n",
    "\n",
    "        reports_tfidf = tfidf.transform(reports_strings)\n",
    "\n",
    "        simis = self.calculate_similarity(src_tfidf, reports_tfidf)\n",
    "        return simis"
   ]
  },
  {
   "cell_type": "code",
   "execution_count": 3,
   "metadata": {},
   "outputs": [],
   "source": [
    "listOfList = []"
   ]
  },
  {
   "cell_type": "code",
   "execution_count": 5,
   "metadata": {},
   "outputs": [],
   "source": [
    "def main():\n",
    "\n",
    "    # Unpickle preprocessed data\n",
    "    with open(DATASET.root \n",
    "    / 'preprocessed_src.pickle', 'rb') as file:\n",
    "        src_files = pickle.load(file)\n",
    "    with open(DATASET.root / 'preprocessed_reports.pickle', 'rb') as file:\n",
    "        bug_reports = pickle.load(file)\n",
    "\n",
    "    sm = Similarity(src_files)\n",
    "    simis = sm.find_similars(bug_reports)\n",
    "    for i in simis:\n",
    "        listOfList.append(i)\n",
    "    print(len(simis))\n",
    "\n",
    "    # Saving similarities in a json file\n",
    "    with open(DATASET.root / 'vsm_similarity.json', 'w') as file:\n",
    "        json.dump(simis, file)\n"
   ]
  },
  {
   "cell_type": "code",
   "execution_count": 6,
   "metadata": {},
   "outputs": [
    {
     "name": "stdout",
     "output_type": "stream",
     "text": [
      "42\n"
     ]
    }
   ],
   "source": [
    "main()"
   ]
  },
  {
   "cell_type": "code",
   "execution_count": null,
   "metadata": {},
   "outputs": [],
   "source": [
    "asdf"
   ]
  },
  {
   "cell_type": "code",
   "execution_count": 2,
   "metadata": {},
   "outputs": [
    {
     "data": {
      "text/plain": [
       "'d:\\\\IRProj\\\\bug-localization-master\\\\master\\\\table.csv'"
      ]
     },
     "execution_count": 2,
     "metadata": {},
     "output_type": "execute_result"
    }
   ],
   "source": [
    "# path = os.getcwd()\n",
    "# path = path.replace('\\\\buglocalizer','')\n",
    "# path+=\"\\\\table.csv\"\n",
    "# path"
   ]
  },
  {
   "cell_type": "code",
   "execution_count": 8,
   "metadata": {},
   "outputs": [],
   "source": [
    "mrr = []\n",
    "mean_avgp = []\n",
    "# df = pd.read_csv(path)"
   ]
  },
  {
   "cell_type": "code",
   "execution_count": 14,
   "metadata": {},
   "outputs": [],
   "source": [
    "for the in listOfList:\n",
    "    another = []\n",
    "    for i,j in enumerate(the):\n",
    "        another.append((i+1,j))\n",
    "    # print(another)\n",
    "    another = sorted(another, key = lambda x: x[1],reverse=True)\n",
    "    # print(another)\n",
    "    relevent_ranks = []\n",
    "    for rank,score in another:\n",
    "        if score!=0:\n",
    "            relevent_ranks.append(rank)\n",
    "    # relevent_ranks = sorted(relevent_ranks)\n",
    "    # print(relevent_ranks)\n",
    "    if len(relevent_ranks)==0:\n",
    "        mean_avgp.append(0)\n",
    "    else:\n",
    "        someAnother = sorted(relevent_ranks)\n",
    "        # print(someAnother)\n",
    "        for j, rank in enumerate(someAnother):\n",
    "            # print(j,rank)\n",
    "            l = len(someAnother[:j + 1])\n",
    "            if rank!=0:\n",
    "                t = l / rank\n",
    "                mean_avgp.append(np.mean(t))\n",
    "            else:\n",
    "                mean_avgp.append(0)\n",
    "    # print(relevent_ranks)\n",
    "    if len(relevent_ranks):\n",
    "        position = (relevent_ranks[0])\n",
    "        if position:\n",
    "            mrr.append(1/position)\n",
    "        else:\n",
    "            mrr.append(0)\n",
    "    else:\n",
    "        mrr.append(0)\n",
    "# print(mrr)\n",
    "# print(np.mean(mrr))\n",
    "\n",
    "# print(np.mean(mean_avgp))\n",
    "\n",
    "some = ['VSM_similarity_score',DATASET.name,np.mean(mrr),np.mean(mean_avgp)]\n",
    "# df.loc[len(df)] = some"
   ]
  },
  {
   "cell_type": "code",
   "execution_count": null,
   "metadata": {},
   "outputs": [],
   "source": [
    "# df.drop_duplicates(subset = \"Dataset\" ,keep = \"first\", inplace = True)\n",
    "# df.to_csv(path,index=None)\n",
    "# df"
   ]
  },
  {
   "cell_type": "code",
   "execution_count": 18,
   "metadata": {},
   "outputs": [
    {
     "name": "stdout",
     "output_type": "stream",
     "text": [
      "top 10 retrieved files:\n"
     ]
    },
    {
     "data": {
      "text/plain": [
       "[(100, 1.0),\n",
       " (13, 0.8319460700351919),\n",
       " (16, 0.795660965076778),\n",
       " (49, 0.7040062788441495),\n",
       " (72, 0.6534156001092718),\n",
       " (44, 0.6400586654702703),\n",
       " (69, 0.6391384860174552),\n",
       " (14, 0.5856902418212637),\n",
       " (67, 0.5736021304115166),\n",
       " (17, 0.5635557689349642)]"
      ]
     },
     "execution_count": 18,
     "metadata": {},
     "output_type": "execute_result"
    }
   ],
   "source": [
    "print(\"top 10 retrieved files:\")\n",
    "another[0:10]"
   ]
  }
 ],
 "metadata": {
  "interpreter": {
   "hash": "2be5faf79681da6f2a61fdfdd5405d65d042280f7fba6178067603e3a2925119"
  },
  "kernelspec": {
   "display_name": "Python 3.10.3 64-bit",
   "language": "python",
   "name": "python3"
  },
  "language_info": {
   "codemirror_mode": {
    "name": "ipython",
    "version": 3
   },
   "file_extension": ".py",
   "mimetype": "text/x-python",
   "name": "python",
   "nbconvert_exporter": "python",
   "pygments_lexer": "ipython3",
   "version": "3.10.3"
  },
  "orig_nbformat": 4
 },
 "nbformat": 4,
 "nbformat_minor": 2
}
