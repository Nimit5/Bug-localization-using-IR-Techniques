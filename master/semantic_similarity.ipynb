{
 "cells": [
  {
   "cell_type": "code",
   "execution_count": 2,
   "metadata": {},
   "outputs": [
    {
     "name": "stdout",
     "output_type": "stream",
     "text": [
      "Dataset(name='codec', root=WindowsPath('d:/IRProj/bug-localization/master/../data/CODEC'), src=WindowsPath('d:/IRProj/bug-localization/master/../data/CODEC/gitrepo'), bug_repo=WindowsPath('d:/IRProj/bug-localization/master/../data/CODEC/bugrepo/repository.xml'))\n"
     ]
    }
   ],
   "source": [
    "import json\n",
    "import pickle\n",
    "\n",
    "import spacy\n",
    "import numpy as np\n",
    "import pandas as pd\n",
    "import os\n",
    "from sklearn.preprocessing import MinMaxScaler\n",
    "\n",
    "from datasets import DATASET"
   ]
  },
  {
   "cell_type": "code",
   "execution_count": 9,
   "metadata": {},
   "outputs": [],
   "source": [
    "def calculate_similarity(src_files, bug_reports):\n",
    "\n",
    "    # Loading word vectors\n",
    "    nlp = spacy.load('en_core_web_lg')\n",
    "\n",
    "    src_docs = [nlp(' '.join(src.file_name['unstemmed'] + src.class_names['unstemmed']\n",
    "                             + src.attributes['unstemmed']\n",
    "                             + src.comments['unstemmed']\n",
    "                             + src.method_names['unstemmed']))\n",
    "                for src in src_files.values()]\n",
    "    # print(src_docs)\n",
    "    min_max_scaler = MinMaxScaler()\n",
    "\n",
    "    all_simis = []\n",
    "    for report in bug_reports.values():\n",
    "        report_doc = nlp(' '.join(report.summary['unstemmed']\n",
    "                                  + report.pos_tagged_description['unstemmed']))\n",
    "        # print(report_doc)\n",
    "        scores = []\n",
    "        for src_doc in src_docs:\n",
    "            simi = report_doc.similarity(src_doc)\n",
    "            scores.append(simi)\n",
    "\n",
    "        scores = np.array([float(count) for count in scores]).reshape(-1, 1)\n",
    "        normalized_scores = np.concatenate(\n",
    "            min_max_scaler.fit_transform(scores)\n",
    "        )\n",
    "\n",
    "        all_simis.append(normalized_scores.tolist())\n",
    "\n",
    "    return all_simis"
   ]
  },
  {
   "cell_type": "code",
   "execution_count": 3,
   "metadata": {},
   "outputs": [],
   "source": [
    "listOfList = []"
   ]
  },
  {
   "cell_type": "code",
   "execution_count": 4,
   "metadata": {},
   "outputs": [],
   "source": [
    "# listOfList"
   ]
  },
  {
   "cell_type": "code",
   "execution_count": 10,
   "metadata": {},
   "outputs": [],
   "source": [
    "\n",
    "def main():\n",
    "\n",
    "    with open(DATASET.root / 'preprocessed_src.pickle', 'rb') as file:\n",
    "        src_files = pickle.load(file)\n",
    "    with open(DATASET.root / 'preprocessed_reports.pickle', 'rb') as file:\n",
    "        bug_reports = pickle.load(file)\n",
    "\n",
    "    all_simis = calculate_similarity(src_files, bug_reports)\n",
    "    for i in all_simis:\n",
    "        listOfList.append(i)\n",
    "    # print(all_simis)\n",
    "    with open(DATASET.root / 'semantic_similarity.json', 'w') as file:\n",
    "        json.dump(all_simis, file)\n"
   ]
  },
  {
   "cell_type": "code",
   "execution_count": 11,
   "metadata": {},
   "outputs": [],
   "source": [
    "main()"
   ]
  },
  {
   "cell_type": "code",
   "execution_count": 7,
   "metadata": {},
   "outputs": [],
   "source": [
    "path = os.getcwd()\n",
    "path+=\"\\\\table.csv\"\n",
    "# path"
   ]
  },
  {
   "cell_type": "code",
   "execution_count": 8,
   "metadata": {},
   "outputs": [],
   "source": [
    "mrr = []\n",
    "mean_avgp = []\n",
    "df = pd.read_csv(path)"
   ]
  },
  {
   "cell_type": "code",
   "execution_count": 9,
   "metadata": {},
   "outputs": [],
   "source": [
    "# listOfList"
   ]
  },
  {
   "cell_type": "code",
   "execution_count": 10,
   "metadata": {},
   "outputs": [],
   "source": [
    "for the in listOfList:\n",
    "    another = []\n",
    "    for i,j in enumerate(the):\n",
    "        another.append((i+1,j))\n",
    "    # print(another)\n",
    "    another = sorted(another, key = lambda x: x[1],reverse=True)\n",
    "    # print(another)\n",
    "    relevent_ranks = []\n",
    "    for rank,score in another:\n",
    "        if score!=0:\n",
    "            relevent_ranks.append(rank)\n",
    "    # relevent_ranks = sorted(relevent_ranks)\n",
    "    # print(relevent_ranks)\n",
    "    if len(relevent_ranks)==0:\n",
    "        mean_avgp.append(0)\n",
    "    else:\n",
    "        someAnother = sorted(relevent_ranks)\n",
    "        # print(someAnother)\n",
    "        for j, rank in enumerate(someAnother):\n",
    "            # print(j,rank)\n",
    "            l = len(someAnother[:j + 1])\n",
    "            if rank!=0:\n",
    "                t = l / rank\n",
    "                mean_avgp.append(np.mean(t))\n",
    "            else:\n",
    "                mean_avgp.append(0)\n",
    "    # print(relevent_ranks)\n",
    "    if len(relevent_ranks):\n",
    "        position = (relevent_ranks[0])\n",
    "        if position:\n",
    "            mrr.append(1/position)\n",
    "        else:\n",
    "            mrr.append(0)\n",
    "    else:\n",
    "        mrr.append(0)\n",
    "# print(mrr)\n",
    "# print(np.mean(mrr))\n",
    "\n",
    "# print(np.mean(mean_avgp))\n",
    "\n",
    "some = ['Semantic_similarity_score',DATASET.name,np.mean(mrr),np.mean(mean_avgp)]\n",
    "# df.loc[len(df)] = some"
   ]
  },
  {
   "cell_type": "code",
   "execution_count": 11,
   "metadata": {},
   "outputs": [],
   "source": [
    "# df.drop_duplicates(subset = \"Dataset\" ,keep = \"first\", inplace = True)\n",
    "# df.to_csv(path,index=None)\n",
    "# df"
   ]
  },
  {
   "cell_type": "code",
   "execution_count": 13,
   "metadata": {},
   "outputs": [
    {
     "name": "stdout",
     "output_type": "stream",
     "text": [
      "top 10 retrieved files:\n"
     ]
    },
    {
     "data": {
      "text/plain": [
       "[(19, 1.0),\n",
       " (67, 0.9981969781853882),\n",
       " (69, 0.9928045727552323),\n",
       " (72, 0.9921683345566433),\n",
       " (64, 0.9822966188180154),\n",
       " (15, 0.9713068006796982),\n",
       " (20, 0.9611532883376875),\n",
       " (8, 0.9585508477566388),\n",
       " (70, 0.9530620254195182),\n",
       " (6, 0.9473219529496081)]"
      ]
     },
     "execution_count": 13,
     "metadata": {},
     "output_type": "execute_result"
    }
   ],
   "source": [
    "print(\"top 10 retrieved files:\")\n",
    "another[0:10]"
   ]
  },
  {
   "cell_type": "code",
   "execution_count": null,
   "metadata": {},
   "outputs": [],
   "source": []
  }
 ],
 "metadata": {
  "interpreter": {
   "hash": "2be5faf79681da6f2a61fdfdd5405d65d042280f7fba6178067603e3a2925119"
  },
  "kernelspec": {
   "display_name": "Python 3.10.3 64-bit",
   "language": "python",
   "name": "python3"
  },
  "language_info": {
   "codemirror_mode": {
    "name": "ipython",
    "version": 3
   },
   "file_extension": ".py",
   "mimetype": "text/x-python",
   "name": "python",
   "nbconvert_exporter": "python",
   "pygments_lexer": "ipython3",
   "version": "3.10.3"
  },
  "orig_nbformat": 4
 },
 "nbformat": 4,
 "nbformat_minor": 2
}
