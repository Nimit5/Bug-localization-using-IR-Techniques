{
 "cells": [
  {
   "cell_type": "code",
   "execution_count": 3,
   "metadata": {},
   "outputs": [],
   "source": [
    "from collections import namedtuple\n",
    "from pathlib import Path\n",
    "import os"
   ]
  },
  {
   "cell_type": "code",
   "execution_count": 6,
   "metadata": {},
   "outputs": [],
   "source": [
    "__file__ = os.getcwd()"
   ]
  },
  {
   "cell_type": "code",
   "execution_count": 7,
   "metadata": {},
   "outputs": [],
   "source": [
    "# Dataset and results root directory\n",
    "_DATASET_ROOT = Path(__file__).parent / '../data'\n",
    "RESULTS_ROOT = Path(__file__).parent / '../results'\n",
    "RESULTS_ROOT.mkdir(exist_ok=True)"
   ]
  },
  {
   "cell_type": "code",
   "execution_count": 8,
   "metadata": {},
   "outputs": [],
   "source": [
    "Dataset = namedtuple('Dataset', ['name', 'root', 'src', 'bug_repo'])"
   ]
  },
  {
   "cell_type": "code",
   "execution_count": 9,
   "metadata": {},
   "outputs": [],
   "source": [
    "\n",
    "# Current dataset in use. (change this name to change the dataset)\n",
    "txt = input(\"Choose the Dataset 1) codec 2) zxing 3) swarm 4) weaver 5) swt: \")\n",
    "first = \"\"\n",
    "second = \"\"\n",
    "if txt == 'zxing':\n",
    "    stuff = txt[0:2].upper()\n",
    "    stuff += txt[2:]\n",
    "    # print(stuff)\n",
    "    first = stuff+'/'+stuff+'-1.6'\n",
    "    second = stuff+'/'+stuff+'BugRepository.xml'\n",
    "    obj = Dataset(\n",
    "        txt,\n",
    "        _DATASET_ROOT / stuff,\n",
    "        _DATASET_ROOT / first,\n",
    "        _DATASET_ROOT / second\n",
    "    )\n",
    "elif txt == 'swt':\n",
    "    stuff = txt[0:2].upper()\n",
    "    stuff += txt[2:]\n",
    "    # print(stuff)\n",
    "    first = stuff+'/'+stuff+'-3.1'\n",
    "    second = stuff+'/'+stuff+'BugRepository.xml'\n",
    "    obj = Dataset(\n",
    "        txt,\n",
    "        _DATASET_ROOT / txt.upper(),\n",
    "        _DATASET_ROOT / first,\n",
    "        _DATASET_ROOT / second\n",
    "    )\n",
    "else:\n",
    "\n",
    "    first = txt.upper()+'/gitrepo'\n",
    "    second = txt.upper()+'/bugrepo/repository.xml'\n",
    "    obj = Dataset(\n",
    "        txt,\n",
    "        _DATASET_ROOT / txt.upper(),\n",
    "        _DATASET_ROOT / first,\n",
    "        _DATASET_ROOT / second,\n",
    "    )\n",
    "# print(obj)\n",
    "DATASET = obj\n"
   ]
  },
  {
   "cell_type": "code",
   "execution_count": 10,
   "metadata": {},
   "outputs": [
    {
     "data": {
      "text/plain": [
       "Dataset(name='codec', root=WindowsPath('d:/IRProj/bug-localization-master/../data/CODEC'), src=WindowsPath('d:/IRProj/bug-localization-master/../data/CODEC/gitrepo'), bug_repo=WindowsPath('d:/IRProj/bug-localization-master/../data/CODEC/bugrepo/repository.xml'))"
      ]
     },
     "execution_count": 10,
     "metadata": {},
     "output_type": "execute_result"
    }
   ],
   "source": [
    "DATASET"
   ]
  },
  {
   "cell_type": "code",
   "execution_count": null,
   "metadata": {},
   "outputs": [],
   "source": [
    "if __name__ == '__main__':\n",
    "    print(DATASET.name, DATASET.root, DATASET.src, DATASET.bug_repo)"
   ]
  }
 ],
 "metadata": {
  "interpreter": {
   "hash": "2be5faf79681da6f2a61fdfdd5405d65d042280f7fba6178067603e3a2925119"
  },
  "kernelspec": {
   "display_name": "Python 3.10.3 64-bit",
   "language": "python",
   "name": "python3"
  },
  "language_info": {
   "codemirror_mode": {
    "name": "ipython",
    "version": 3
   },
   "file_extension": ".py",
   "mimetype": "text/x-python",
   "name": "python",
   "nbconvert_exporter": "python",
   "pygments_lexer": "ipython3",
   "version": "3.10.3"
  },
  "orig_nbformat": 4
 },
 "nbformat": 4,
 "nbformat_minor": 2
}
