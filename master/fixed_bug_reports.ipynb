{
 "cells": [
  {
   "cell_type": "code",
   "execution_count": 1,
   "metadata": {},
   "outputs": [
    {
     "name": "stdout",
     "output_type": "stream",
     "text": [
      "Dataset(name='codec', root=WindowsPath('d:/IRProj/bug-localization-master/master/../data/CODEC'), src=WindowsPath('d:/IRProj/bug-localization-master/master/../data/CODEC/gitrepo'), bug_repo=WindowsPath('d:/IRProj/bug-localization-master/master/../data/CODEC/bugrepo/repository.xml'))\n"
     ]
    }
   ],
   "source": [
    "import json\n",
    "import pickle\n",
    "\n",
    "import numpy as np\n",
    "import os\n",
    "from sklearn.base import BaseEstimator, TransformerMixin\n",
    "from sklearn.feature_extraction.text import TfidfVectorizer\n",
    "from sklearn.multiclass import OneVsRestClassifier\n",
    "from sklearn.naive_bayes import MultinomialNB\n",
    "from sklearn.pipeline import FeatureUnion, Pipeline\n",
    "from sklearn.preprocessing import MinMaxScaler, MultiLabelBinarizer\n",
    "import pandas as pd\n",
    "from datasets import DATASET"
   ]
  },
  {
   "cell_type": "code",
   "execution_count": 2,
   "metadata": {},
   "outputs": [],
   "source": [
    "#choosing the appropriate feature set in the pipeline\n",
    "class FeatureSelector(BaseEstimator, TransformerMixin):\n",
    "    \n",
    "\n",
    "    def __init__(self, key):\n",
    "        self.key = key\n",
    "\n",
    "    def fit(self, x, y=None):\n",
    "        return self\n",
    "\n",
    "    def transform(self, data):\n",
    "        if self.key == 'summary':\n",
    "            arr = []\n",
    "            for r in data:\n",
    "                arr.append(' '.join(r.summary['stemmed']))\n",
    "            return arr\n",
    "\n",
    "        elif self.key == 'postagged':\n",
    "            arr = []\n",
    "            for r in data:\n",
    "                arr.append(' '.join(\n",
    "                    r.pos_tagged_summary['stemmed'] + r.pos_tagged_description['stemmed']))\n",
    "            return arr\n",
    "\n",
    "# multi-label classification using multinomial naive bayes\n",
    "def multilabel_clf(train_set, test_set, src_keys):\n",
    "    \n",
    "\n",
    "    if len(train_set) <= 1:\n",
    "        return [0] * len(src_keys)\n",
    "\n",
    "    train_fixed = []\n",
    "    for i in train_set:\n",
    "        train_fixed.append(i.fixed_files)\n",
    "\n",
    "    # Classes need to be binarized for the classifier\n",
    "    mlb = MultiLabelBinarizer()\n",
    "    train_labels = mlb.fit_transform(train_fixed)\n",
    "\n",
    "    classifier = Pipeline([\n",
    "        ('feats', FeatureUnion([\n",
    "            ('summ', Pipeline([\n",
    "                ('summary', FeatureSelector('summary')),\n",
    "                ('summ_tfidf', TfidfVectorizer(sublinear_tf=True, lowercase=False))\n",
    "            ])),\n",
    "            ('summ_desc', Pipeline([\n",
    "                ('postagged', FeatureSelector('postagged')),\n",
    "                ('summ_desc_tfidf', TfidfVectorizer(\n",
    "                    sublinear_tf=True, lowercase=False))\n",
    "            ])),\n",
    "        ])),\n",
    "        ('clf', OneVsRestClassifier(MultinomialNB()))\n",
    "    ])\n",
    "\n",
    "    classifier.fit(train_set, train_labels)\n",
    "\n",
    "    # Getting probabilities for all source files\n",
    "    probas = classifier.predict_proba(test_set)\n",
    "\n",
    "    labeled_proba = dict(zip(mlb.classes_, probas[0]))\n",
    "\n",
    "    src_probas = []\n",
    "    for name in src_keys:\n",
    "        src_probas.append(labeled_proba.get(name, 0))\n",
    "\n",
    "    return src_probas\n"
   ]
  },
  {
   "cell_type": "code",
   "execution_count": 3,
   "metadata": {},
   "outputs": [],
   "source": [
    "# preparing the train and test sets based on previously fixed bugs\n",
    "def prepare_clf(bug_reports):\n",
    "    \n",
    "\n",
    "    with open(DATASET.root / 'preprocessed_src.pickle', 'rb') as file:\n",
    "        src_files = pickle.load(file)\n",
    "\n",
    "    bug_reports = list(bug_reports.values())\n",
    "    # print(bug_reports)\n",
    "\n",
    "    min_max_scaler = MinMaxScaler()\n",
    "\n",
    "    probabilities = []\n",
    "    for i, report in enumerate(bug_reports):\n",
    "        probas = multilabel_clf(bug_reports[:i], [report], src_files.keys())\n",
    "\n",
    "        some = []\n",
    "        for count in probas:\n",
    "            some.append(float(count))\n",
    "\n",
    "        probas = np.array(some).reshape(-1, 1)\n",
    "\n",
    "        normalized_probas = np.concatenate(min_max_scaler.fit_transform(probas))\n",
    "        \n",
    "        probabilities.append(normalized_probas.tolist())\n",
    "\n",
    "    return probabilities\n",
    "\n"
   ]
  },
  {
   "cell_type": "code",
   "execution_count": 4,
   "metadata": {},
   "outputs": [],
   "source": [
    "listoflist = []"
   ]
  },
  {
   "cell_type": "code",
   "execution_count": 5,
   "metadata": {},
   "outputs": [],
   "source": [
    "\n",
    "def main():\n",
    "\n",
    "    with open(DATASET.root / 'preprocessed_reports.pickle', 'rb') as file:\n",
    "        bug_reports = pickle.load(file)\n",
    "\n",
    "    probabilities = prepare_clf(bug_reports)\n",
    "    for i in probabilities:\n",
    "        listoflist.append(i)\n",
    "    # print(probabilities)\n",
    "\n",
    "    with open(DATASET.root / 'fixed_bug_reports.json', 'w') as file:\n",
    "        json.dump(probabilities, file)\n"
   ]
  },
  {
   "cell_type": "code",
   "execution_count": 6,
   "metadata": {},
   "outputs": [],
   "source": [
    "main()"
   ]
  },
  {
   "cell_type": "code",
   "execution_count": 7,
   "metadata": {},
   "outputs": [],
   "source": [
    "path = os.getcwd()\n",
    "path+=\"\\\\table.csv\"\n",
    "# path"
   ]
  },
  {
   "cell_type": "code",
   "execution_count": 8,
   "metadata": {},
   "outputs": [],
   "source": [
    "mrr = []\n",
    "mean_avgp = []\n",
    "df = pd.read_csv(path)"
   ]
  },
  {
   "cell_type": "code",
   "execution_count": 9,
   "metadata": {},
   "outputs": [],
   "source": [
    "for the in listoflist:\n",
    "    another = []\n",
    "    for i,j in enumerate(the):\n",
    "        another.append((i+1,j))\n",
    "    another = sorted(another, key = lambda x: x[1],reverse=True)\n",
    "    # print(another)\n",
    "    relevent_ranks = []\n",
    "    for rank,score in another:\n",
    "        if score!=0:\n",
    "            relevent_ranks.append(rank)\n",
    "    relevent_ranks = sorted(relevent_ranks)\n",
    "    # print(relevent_ranks)\n",
    "    if len(relevent_ranks)==0:\n",
    "        mean_avgp.append(0)\n",
    "    else:\n",
    "        for j, rank in enumerate(relevent_ranks):\n",
    "            # print(j,rank)\n",
    "            l = len(relevent_ranks[:j + 1])\n",
    "            if rank!=0:\n",
    "                t = l / rank\n",
    "                mean_avgp.append(np.mean(t))\n",
    "            else:\n",
    "                mean_avgp.append(0)\n",
    "    if len(relevent_ranks):\n",
    "        position = (relevent_ranks[0])\n",
    "        \n",
    "        if position:\n",
    "            mrr.append(1/position)\n",
    "        else:\n",
    "            mrr.append(0)\n",
    "    else:\n",
    "        mrr.append(0)\n",
    "# print(np.mean(mrr))\n",
    "# print(np.mean(mean_avgp))\n",
    "\n",
    "some = ['Fixed_bug_reports_score',DATASET.name,np.mean(mrr),np.mean(mean_avgp)]\n",
    "# df.loc[len(df)] = some"
   ]
  },
  {
   "cell_type": "code",
   "execution_count": 10,
   "metadata": {},
   "outputs": [],
   "source": [
    "# # df.drop_duplicates(subset = \"Dataset\" ,keep = \"first\", inplace = True)\n",
    "# df.to_csv(path,index=None)\n",
    "# df"
   ]
  },
  {
   "cell_type": "code",
   "execution_count": 11,
   "metadata": {},
   "outputs": [
    {
     "name": "stdout",
     "output_type": "stream",
     "text": [
      "top 10 retrieved files:\n"
     ]
    },
    {
     "data": {
      "text/plain": [
       "[(69, 1.0),\n",
       " (15, 0.8846477327502872),\n",
       " (16, 0.31933867909554614),\n",
       " (72, 0.2829622017106717),\n",
       " (71, 0.267583431590545),\n",
       " (26, 0.17662314845338462),\n",
       " (12, 0.1705708315829426),\n",
       " (20, 0.15321705059345345),\n",
       " (17, 0.14837180456720125),\n",
       " (19, 0.13213286309189892)]"
      ]
     },
     "execution_count": 11,
     "metadata": {},
     "output_type": "execute_result"
    }
   ],
   "source": [
    "print(\"top 10 retrieved files:\")\n",
    "another[0:10]"
   ]
  },
  {
   "cell_type": "code",
   "execution_count": null,
   "metadata": {},
   "outputs": [],
   "source": []
  },
  {
   "cell_type": "code",
   "execution_count": null,
   "metadata": {},
   "outputs": [],
   "source": []
  }
 ],
 "metadata": {
  "interpreter": {
   "hash": "2be5faf79681da6f2a61fdfdd5405d65d042280f7fba6178067603e3a2925119"
  },
  "kernelspec": {
   "display_name": "Python 3.10.3 64-bit",
   "language": "python",
   "name": "python3"
  },
  "language_info": {
   "codemirror_mode": {
    "name": "ipython",
    "version": 3
   },
   "file_extension": ".py",
   "mimetype": "text/x-python",
   "name": "python",
   "nbconvert_exporter": "python",
   "pygments_lexer": "ipython3",
   "version": "3.10.3"
  },
  "orig_nbformat": 4
 },
 "nbformat": 4,
 "nbformat_minor": 2
}
